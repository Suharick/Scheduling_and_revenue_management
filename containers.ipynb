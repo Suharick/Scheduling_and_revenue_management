{
 "cells": [
  {
   "cell_type": "code",
   "execution_count": 1,
   "metadata": {},
   "outputs": [],
   "source": [
    "import numpy as np\n",
    "import pandas as pd\n",
    "import functools\n",
    "import itertools\n",
    "import operator\n",
    "import gurobipy as gp\n",
    "import random\n",
    "import math\n",
    "from docplex.cp.model import CpoModel"
   ]
  },
  {
   "cell_type": "code",
   "execution_count": 2,
   "metadata": {},
   "outputs": [],
   "source": [
    "containers = pd.read_excel (r'C:\\Users\\User\\Desktop\\Containers\\Dataset2\\Контейнеры (пункт назначения).xlsx');\n",
    "platforms = pd.read_excel (r'C:\\Users\\User\\Desktop\\Containers\\Dataset2\\Платформы (пункт назначения).xlsx');"
   ]
  },
  {
   "cell_type": "code",
   "execution_count": 3,
   "metadata": {},
   "outputs": [],
   "source": [
    "containers['Масса'] = containers['МассаГруза'] + containers['МассаТары']"
   ]
  },
  {
   "cell_type": "code",
   "execution_count": 4,
   "metadata": {},
   "outputs": [],
   "source": [
    "containers['МассаГруза'] = containers['МассаГруза'].str.replace(\" \",\"\")\n",
    "containers['МассаГруза'] = pd.to_numeric(containers['МассаГруза'])"
   ]
  },
  {
   "cell_type": "code",
   "execution_count": 5,
   "metadata": {},
   "outputs": [],
   "source": [
    "containers['МассаТары'] = containers['МассаТары'].str.replace(\" \",\"\")\n",
    "containers['МассаТары'] = pd.to_numeric(containers['МассаТары'])"
   ]
  },
  {
   "cell_type": "code",
   "execution_count": 6,
   "metadata": {},
   "outputs": [],
   "source": [
    "containers['Масса'] = (containers['МассаГруза'] + containers['МассаТары'])/1000"
   ]
  },
  {
   "cell_type": "code",
   "execution_count": 7,
   "metadata": {},
   "outputs": [],
   "source": [
    "containersIndex = containers.set_index('Контейнер')"
   ]
  },
  {
   "cell_type": "code",
   "execution_count": 8,
   "metadata": {},
   "outputs": [],
   "source": [
    "containersDict = containersIndex.T.to_dict('list')"
   ]
  },
  {
   "cell_type": "code",
   "execution_count": 9,
   "metadata": {},
   "outputs": [],
   "source": [
    "platforms['Грузоподъемность'] = platforms['Грузоподъемность'].str.replace(\",\",\".\")\n",
    "platforms['Грузоподъемность'] = pd.to_numeric(platforms['Грузоподъемность'])"
   ]
  },
  {
   "cell_type": "code",
   "execution_count": 10,
   "metadata": {},
   "outputs": [],
   "source": [
    "platformsDict = platforms.set_index('Вагон').T.to_dict('list')"
   ]
  },
  {
   "cell_type": "code",
   "execution_count": 11,
   "metadata": {},
   "outputs": [],
   "source": [
    "cardinalityRange = [1,4]"
   ]
  },
  {
   "cell_type": "code",
   "execution_count": 12,
   "metadata": {},
   "outputs": [],
   "source": [
    "def powerset(iterable,cardinalityRange):\n",
    "    return list(itertools.chain.from_iterable(itertools.combinations(iterable, r) for r in range(cardinalityRange[0],cardinalityRange[1])))"
   ]
  },
  {
   "cell_type": "code",
   "execution_count": 13,
   "metadata": {},
   "outputs": [],
   "source": [
    "allSubsets = powerset(list(containersDict.keys()),cardinalityRange)"
   ]
  },
  {
   "cell_type": "code",
   "execution_count": 14,
   "metadata": {},
   "outputs": [],
   "source": [
    "containersGroups = containersIndex.groupby(['Партия'])"
   ]
  },
  {
   "cell_type": "code",
   "execution_count": 15,
   "metadata": {},
   "outputs": [],
   "source": [
    "def functools_reduce_iconcat(a):\n",
    "    return functools.reduce(operator.iconcat, a, [])"
   ]
  },
  {
   "cell_type": "code",
   "execution_count": 16,
   "metadata": {},
   "outputs": [],
   "source": [
    "subsetsByBatches = functools_reduce_iconcat([powerset(list(c),cardinalityRange) for c in containersGroups.groups.values()])"
   ]
  },
  {
   "cell_type": "code",
   "execution_count": 17,
   "metadata": {},
   "outputs": [],
   "source": [
    "maxQ = max(platforms['Грузоподъемность'])"
   ]
  },
  {
   "cell_type": "code",
   "execution_count": 18,
   "metadata": {},
   "outputs": [],
   "source": [
    "subsetsByBatchesFilter1 = list(filter(lambda x: sum([containersDict[c][7] for c in x]) <= maxQ, subsetsByBatches))"
   ]
  },
  {
   "cell_type": "code",
   "execution_count": 19,
   "metadata": {},
   "outputs": [],
   "source": [
    "variants = functools_reduce_iconcat([list(itertools.permutations(c)) for c in subsetsByBatchesFilter1])"
   ]
  },
  {
   "cell_type": "code",
   "execution_count": 20,
   "metadata": {},
   "outputs": [],
   "source": [
    "numberOfPlatforms = len(platformsDict)\n",
    "numberOfContainers = len(containersDict)\n",
    "share = 0.25"
   ]
  },
  {
   "cell_type": "code",
   "execution_count": 21,
   "metadata": {},
   "outputs": [],
   "source": [
    "subsetsDict = dict((key, random.sample(variants,random.randint(1,math.floor(share*len(subsetsByBatchesFilter1))))) for key in range(0,numberOfPlatforms))"
   ]
  },
  {
   "cell_type": "code",
   "execution_count": 22,
   "metadata": {},
   "outputs": [],
   "source": [
    "step1 = functools_reduce_iconcat([np.asarray(tup) for tup in functools_reduce_iconcat(subsetsDict.values())])"
   ]
  },
  {
   "cell_type": "code",
   "execution_count": 23,
   "metadata": {},
   "outputs": [],
   "source": [
    "containersNames = list(set(step1))"
   ]
  },
  {
   "cell_type": "code",
   "execution_count": 24,
   "metadata": {},
   "outputs": [],
   "source": [
    "from docplex.mp.model import Model"
   ]
  },
  {
   "cell_type": "code",
   "execution_count": 53,
   "metadata": {},
   "outputs": [],
   "source": [
    "model = Model(\"Containers\")"
   ]
  },
  {
   "cell_type": "code",
   "execution_count": 54,
   "metadata": {},
   "outputs": [],
   "source": [
    "idx = [(key, num) for key in subsetsDict.keys() for num in range(0,len(subsetsDict[key]))]"
   ]
  },
  {
   "cell_type": "code",
   "execution_count": 55,
   "metadata": {},
   "outputs": [],
   "source": [
    "idsBatches = sorted(containers['Партия'].unique())"
   ]
  },
  {
   "cell_type": "code",
   "execution_count": 56,
   "metadata": {},
   "outputs": [],
   "source": [
    "varsx = model.binary_var_dict(idx, name = 'X')"
   ]
  },
  {
   "cell_type": "code",
   "execution_count": 57,
   "metadata": {},
   "outputs": [],
   "source": [
    "varsy2 = model.binary_var_dict(idsBatches, name = 'Y2')"
   ]
  },
  {
   "cell_type": "code",
   "execution_count": 58,
   "metadata": {
    "scrolled": true
   },
   "outputs": [
    {
     "data": {
      "text/plain": [
       "DecisionKPI(name=Platforms,expr=-X_0_0-X_0_1-X_0_2-X_0_3-X_0_4-X_0_5-X_0_6-X_0_7-X_0_8-X_0_9-X_0..)"
      ]
     },
     "execution_count": 58,
     "metadata": {},
     "output_type": "execute_result"
    }
   ],
   "source": [
    "myCost1 = model.sum(-varsx[i] for i in idx)\n",
    "model.add_kpi(myCost1, 'Platforms')"
   ]
  },
  {
   "cell_type": "code",
   "execution_count": 59,
   "metadata": {},
   "outputs": [
    {
     "data": {
      "text/plain": [
       "DecisionKPI(name=Containers,expr=3X_0_0+3X_0_1+3X_0_2+3X_0_3+3X_0_4+3X_0_5+3X_0_6+3X_0_7+3X_0_8+3..)"
      ]
     },
     "execution_count": 59,
     "metadata": {},
     "output_type": "execute_result"
    }
   ],
   "source": [
    "myCost2 = model.sum(len(subsetsDict[i][j])*varsx[i,j] for (i,j) in idx)\n",
    "model.add_kpi(myCost2, 'Containers')"
   ]
  },
  {
   "cell_type": "code",
   "execution_count": 60,
   "metadata": {},
   "outputs": [],
   "source": [
    "for c in containersNames:\n",
    "    listOfPositions = []\n",
    "    for key in subsetsDict.keys():\n",
    "        for i,x in enumerate(subsetsDict[key]):\n",
    "            if c in x:\n",
    "                listOfPositions.append((key,i))\n",
    "    if len(listOfPositions) > 0:\n",
    "        model.add_constraint(model.sum(varsx[pos] for pos in listOfPositions) <= 1)"
   ]
  },
  {
   "cell_type": "code",
   "execution_count": 61,
   "metadata": {},
   "outputs": [],
   "source": [
    " for key in subsetsDict.keys():\n",
    "         model.add_constraint(model.sum(varsx[key,pos] for pos in range(0,len(subsetsDict[key]))) <= 1)"
   ]
  },
  {
   "cell_type": "code",
   "execution_count": 73,
   "metadata": {},
   "outputs": [],
   "source": [
    "batchesDict = {id:[] for id in idsBatches}"
   ]
  },
  {
   "cell_type": "code",
   "execution_count": 74,
   "metadata": {},
   "outputs": [],
   "source": [
    "for key in subsetsDict.keys():\n",
    "    for i,x in enumerate(subsetsDict[key]):\n",
    "        batchesInX = [containersDict[c][5] for c in x]\n",
    "        for b in set(batchesInX):\n",
    "            batchesDict[b].append((key,i,batchesInX.count(b)))"
   ]
  },
  {
   "cell_type": "code",
   "execution_count": 64,
   "metadata": {},
   "outputs": [],
   "source": [
    "batchesCounts = containers['Партия'].value_counts()"
   ]
  },
  {
   "cell_type": "code",
   "execution_count": 76,
   "metadata": {},
   "outputs": [],
   "source": [
    "for b in idsBatches:\n",
    "    model.add_constraint(model.sum(k*varsx[i,j] for (i,j,k) in batchesDict[b]) - batchesCounts[b]*varsy2[b] == 0 )"
   ]
  },
  {
   "cell_type": "code",
   "execution_count": 77,
   "metadata": {},
   "outputs": [],
   "source": [
    "model.maximize_static_lex([myCost2, myCost1])"
   ]
  },
  {
   "cell_type": "code",
   "execution_count": 78,
   "metadata": {},
   "outputs": [
    {
     "data": {
      "text/plain": [
       "docplex.mp.solution.SolveSolution(obj=59,values={X_0_273:1,X_1_1520:1,X_.."
      ]
     },
     "execution_count": 78,
     "metadata": {},
     "output_type": "execute_result"
    }
   ],
   "source": [
    "model.solve()"
   ]
  },
  {
   "cell_type": "code",
   "execution_count": 79,
   "metadata": {},
   "outputs": [],
   "source": [
    "solution = {}\n",
    "for v in model.iter_binary_vars():\n",
    "    if v.solution_value == 1:\n",
    "        name = v.name.split('_')\n",
    "        if name[0] == 'X':\n",
    "            solution[list(subsetsDict.keys())[int(name[1])]] =  subsetsDict[int(name[1])][int(name[2])]"
   ]
  },
  {
   "cell_type": "code",
   "execution_count": 80,
   "metadata": {},
   "outputs": [
    {
     "data": {
      "text/plain": [
       "{0: ('PONU 0233749', 'MSCU 6376558', 'MRKU 7402432'),\n",
       " 1: ('MRKU 7209130', 'TCLU 2178392', 'MSKU 7252843'),\n",
       " 2: ('GLDU 5214557', 'MEDU 2752503', 'MSKU 2334933'),\n",
       " 3: ('TGHU 0608214', 'MSKU 2442753', 'MRSU 4368888'),\n",
       " 4: ('TEMU 0116038', 'MRKU 8929639', 'BEAU 5112926'),\n",
       " 5: ('SUDU 7789029', 'MSKU 2019269', 'DRYU 2439546'),\n",
       " 6: ('MSKU 2869806', 'SUDU 1680956', 'MSDU 2147639'),\n",
       " 7: ('MSDU 2038047', 'MSKU 5163217', 'MRKU 5100937'),\n",
       " 8: ('MSKU 1483552', 'MRKU 6687325', 'MSKU 4425349'),\n",
       " 9: ('TCKU 1442327', 'TCLU 2410316', 'MRKU 3142527'),\n",
       " 10: ('MRKU 9627443', 'MRKU 9724720', 'AMFU 3254656'),\n",
       " 11: ('MRKU 7043841', 'MRKU 9374514', 'CARU 2216790'),\n",
       " 15: ('MRKU 9033020', 'MSKU 3887851'),\n",
       " 17: ('MRKU 7062395', 'SEKU 4629612', 'TEMU 1409370'),\n",
       " 18: ('MRKU 9232361', 'MRKU 6854058', 'TRHU 1726358'),\n",
       " 19: ('HASU 1177403', 'MSKU 9310569', 'MRKU 7799000'),\n",
       " 20: ('MSKU 7398416', 'PONU 0250788', 'MSKU 7848874'),\n",
       " 21: ('HASU 1434986', 'MRKU 9164858', 'TCLU 7486607'),\n",
       " 22: ('MSKU 7453895',),\n",
       " 26: ('MSKU 7503743', 'MSKU 1111853'),\n",
       " 27: ('MRKU 9484620', 'SUDU 1325490', 'TCKU 1119058')}"
      ]
     },
     "execution_count": 80,
     "metadata": {},
     "output_type": "execute_result"
    }
   ],
   "source": [
    "solution"
   ]
  },
  {
   "cell_type": "code",
   "execution_count": 81,
   "metadata": {},
   "outputs": [
    {
     "data": {
      "text/plain": [
       "21"
      ]
     },
     "execution_count": 81,
     "metadata": {},
     "output_type": "execute_result"
    }
   ],
   "source": [
    "len(solution)"
   ]
  },
  {
   "cell_type": "code",
   "execution_count": 87,
   "metadata": {},
   "outputs": [],
   "source": [
    "allContainersToDeparture = functools_reduce_iconcat([np.asarray(tup) for tup in solution.values()])"
   ]
  },
  {
   "cell_type": "code",
   "execution_count": 88,
   "metadata": {},
   "outputs": [
    {
     "data": {
      "text/plain": [
       "59"
      ]
     },
     "execution_count": 88,
     "metadata": {},
     "output_type": "execute_result"
    }
   ],
   "source": [
    "len(allContainersToDeparture)"
   ]
  },
  {
   "cell_type": "code",
   "execution_count": 91,
   "metadata": {},
   "outputs": [
    {
     "data": {
      "text/plain": [
       "59"
      ]
     },
     "execution_count": 91,
     "metadata": {},
     "output_type": "execute_result"
    }
   ],
   "source": [
    "len(set(allContainersToDeparture))"
   ]
  },
  {
   "cell_type": "code",
   "execution_count": null,
   "metadata": {},
   "outputs": [],
   "source": []
  }
 ],
 "metadata": {
  "kernelspec": {
   "display_name": "Python 3",
   "language": "python",
   "name": "python3"
  },
  "language_info": {
   "codemirror_mode": {
    "name": "ipython",
    "version": 3
   },
   "file_extension": ".py",
   "mimetype": "text/x-python",
   "name": "python",
   "nbconvert_exporter": "python",
   "pygments_lexer": "ipython3",
   "version": "3.7.6"
  }
 },
 "nbformat": 4,
 "nbformat_minor": 4
}
